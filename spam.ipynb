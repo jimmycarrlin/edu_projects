{
 "cells": [
  {
   "cell_type": "code",
   "execution_count": 41,
   "id": "e45dce61",
   "metadata": {},
   "outputs": [],
   "source": [
    "import numpy as np\n",
    "import random"
   ]
  },
  {
   "cell_type": "code",
   "execution_count": 42,
   "id": "567a7f5e",
   "metadata": {},
   "outputs": [],
   "source": [
    "# Для кубика с 2N=6 гранями.\n",
    "\n",
    "def game(k=4, num_iter=100_000):\n",
    "\n",
    "    res = []\n",
    "\n",
    "    for i in range(num_iter):\n",
    "\n",
    "        x1 = np.random.randint(1, 7)\n",
    "\n",
    "        if x1 < k:\n",
    "            x2 = np.random.randint(1, 7)\n",
    "            res.append(x2)\n",
    "        else:\n",
    "            res.append(x1)\n",
    "\n",
    "    return res"
   ]
  },
  {
   "cell_type": "code",
   "execution_count": 43,
   "id": "a7676bb5",
   "metadata": {},
   "outputs": [
    {
     "name": "stdout",
     "output_type": "stream",
     "text": [
      "Средняя прибыль от игры (при k=2): 3.91574\n",
      "Средняя прибыль от игры (при k=3): 4.17377\n",
      "Средняя прибыль от игры (при k=4): 4.24576\n",
      "Средняя прибыль от игры (при k=5): 4.17204\n",
      "Средняя прибыль от игры (при k=6): 3.91617\n"
     ]
    }
   ],
   "source": [
    "# Аналитическое решение: ожидаемая прибыль максимизируется при \n",
    "#    k=N+1=4 \n",
    "# и равняется \n",
    "#    (5/4)N + (1/2) = (5/4)·3 + (1/2) = 4.25\n",
    "\n",
    "for k in range(2, 7):\n",
    "    res = game(k)\n",
    "    print(f\"Средняя прибыль от игры (при k={k}): {np.mean(res)}\")"
   ]
  }
 ],
 "metadata": {
  "kernelspec": {
   "display_name": "Python 3 (ipykernel)",
   "language": "python",
   "name": "python3"
  },
  "language_info": {
   "codemirror_mode": {
    "name": "ipython",
    "version": 3
   },
   "file_extension": ".py",
   "mimetype": "text/x-python",
   "name": "python",
   "nbconvert_exporter": "python",
   "pygments_lexer": "ipython3",
   "version": "3.9.7"
  }
 },
 "nbformat": 4,
 "nbformat_minor": 5
}
